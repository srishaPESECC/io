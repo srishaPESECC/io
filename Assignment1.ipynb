{
  "nbformat": 4,
  "nbformat_minor": 0,
  "metadata": {
    "colab": {
      "provenance": []
    },
    "kernelspec": {
      "name": "python3",
      "display_name": "Python 3"
    },
    "language_info": {
      "name": "python"
    }
  },
  "cells": [
    {
      "cell_type": "code",
      "execution_count": 1,
      "metadata": {
        "id": "n_WIZREsz3kO"
      },
      "outputs": [],
      "source": [
        "import pandas as pd\n",
        "import numpy as np\n",
        "import matplotlib.pyplot as plt"
      ]
    },
    {
      "cell_type": "markdown",
      "source": [
        "the print(\"_______________\") lines are used to separate the outputs so that its less confusing to view."
      ],
      "metadata": {
        "id": "3BlvDZ780qCZ"
      }
    },
    {
      "cell_type": "code",
      "source": [
        "dataset = pd.read_csv(\"SwedishMotorInsurance.csv\")\n",
        "print(dataset)\n",
        "x=dataset.iloc[:,-2:]\n",
        "df=pd.DataFrame(x)\n",
        "df.replace(0, np.nan, inplace=True)\n",
        "x=df.values\n",
        "y=dataset.iloc[:,-1].values\n",
        "temp=dataset.iloc[:,-3].values\n",
        "print(\"_______________________________________\")\n",
        "print(temp)\n",
        "print(\"_______________________________________\")\n",
        "\n",
        "print(x)\n",
        "print(\"____________\")\n",
        "#print(y)\n",
        "\n",
        "#print(\"_______________________________\")"
      ],
      "metadata": {
        "colab": {
          "base_uri": "https://localhost:8080/"
        },
        "id": "Gqn_Wf7n0dg9",
        "outputId": "06b3e03d-4560-46ac-9d8d-e7f0b06e0bd1"
      },
      "execution_count": 2,
      "outputs": [
        {
          "output_type": "stream",
          "name": "stdout",
          "text": [
            "      Kilometres  Zone  Bonus  Make  Insured  Claims  Payment\n",
            "0              1     1      1     1   455.13     108   392491\n",
            "1              1     1      1     2    69.17      19    46221\n",
            "2              1     1      1     3    72.88      13    15694\n",
            "3              1     1      1     4  1292.39     124   422201\n",
            "4              1     1      1     5   191.01      40   119373\n",
            "...          ...   ...    ...   ...      ...     ...      ...\n",
            "2177           5     7      7     5     8.74       0        0\n",
            "2178           5     7      7     6    16.61       0        0\n",
            "2179           5     7      7     7     2.83       1      966\n",
            "2180           5     7      7     8    13.06       0        0\n",
            "2181           5     7      7     9   384.87      16   112252\n",
            "\n",
            "[2182 rows x 7 columns]\n",
            "_______________________________________\n",
            "[455.13  69.17  72.88 ...   2.83  13.06 384.87]\n",
            "_______________________________________\n",
            "[[1.08000e+02 3.92491e+05]\n",
            " [1.90000e+01 4.62210e+04]\n",
            " [1.30000e+01 1.56940e+04]\n",
            " ...\n",
            " [1.00000e+00 9.66000e+02]\n",
            " [        nan         nan]\n",
            " [1.60000e+01 1.12252e+05]]\n",
            "____________\n"
          ]
        }
      ]
    },
    {
      "cell_type": "code",
      "source": [
        "print(x)\n",
        "print(\"____________\")"
      ],
      "metadata": {
        "colab": {
          "base_uri": "https://localhost:8080/"
        },
        "id": "RUOTpSha0kxa",
        "outputId": "4f3bb4ef-8271-4d81-c786-f39c4092f7fd"
      },
      "execution_count": 3,
      "outputs": [
        {
          "output_type": "stream",
          "name": "stdout",
          "text": [
            "[[1.08000e+02 3.92491e+05]\n",
            " [1.90000e+01 4.62210e+04]\n",
            " [1.30000e+01 1.56940e+04]\n",
            " ...\n",
            " [1.00000e+00 9.66000e+02]\n",
            " [        nan         nan]\n",
            " [1.60000e+01 1.12252e+05]]\n",
            "____________\n"
          ]
        }
      ]
    },
    {
      "cell_type": "code",
      "source": [
        "from sklearn.impute import SimpleImputer\n",
        "imputer = SimpleImputer(missing_values=np.nan, strategy='mean')\n",
        "imputer.fit(x[:, -2:])\n",
        "x[:, -2:] = imputer.transform(x[:, -2:])\n",
        "print(x)\n",
        "print(\"___________________\")\n",
        "y=x[:,-1]\n",
        "x=x[:,-2]\n",
        "print(y)\n",
        "print(\"_________________\")\n",
        "\n",
        "print(x)"
      ],
      "metadata": {
        "colab": {
          "base_uri": "https://localhost:8080/"
        },
        "id": "aRmu4wtK04TZ",
        "outputId": "c2751d6d-eeaa-4480-dd98-6f59c2610030"
      },
      "execution_count": 4,
      "outputs": [
        {
          "output_type": "stream",
          "name": "stdout",
          "text": [
            "[[1.08000000e+02 3.92491000e+05]\n",
            " [1.90000000e+01 4.62210000e+04]\n",
            " [1.30000000e+01 1.56940000e+04]\n",
            " ...\n",
            " [1.00000000e+00 9.66000000e+02]\n",
            " [6.29777407e+01 3.12070496e+05]\n",
            " [1.60000000e+01 1.12252000e+05]]\n",
            "___________________\n",
            "[392491.          46221.          15694.         ...    966.\n",
            " 312070.49582638 112252.        ]\n",
            "_________________\n",
            "[108.          19.          13.         ...   1.          62.97774068\n",
            "  16.        ]\n"
          ]
        }
      ]
    },
    {
      "cell_type": "code",
      "source": [
        "print(x)"
      ],
      "metadata": {
        "colab": {
          "base_uri": "https://localhost:8080/"
        },
        "id": "Pl94ySwI08D2",
        "outputId": "27804c65-2bbe-4b06-df81-f3cfbb4fa53a"
      },
      "execution_count": 5,
      "outputs": [
        {
          "output_type": "stream",
          "name": "stdout",
          "text": [
            "[108.          19.          13.         ...   1.          62.97774068\n",
            "  16.        ]\n"
          ]
        }
      ]
    },
    {
      "cell_type": "code",
      "source": [
        "x = np.hstack((temp.reshape(-1, 1), x.reshape(-1, 1)))\n",
        "\n",
        "from sklearn.model_selection import train_test_split\n",
        "x_train, x_test, y_train, y_test = train_test_split(x, y, test_size = 0.2, random_state = 1)\n",
        "\n",
        "from sklearn.preprocessing import StandardScaler\n",
        "sc = StandardScaler()\n",
        "x_train = sc.fit_transform(x_train)\n",
        "x_test = sc.transform(x_test)"
      ],
      "metadata": {
        "id": "wFi_6Emd0_lz"
      },
      "execution_count": 6,
      "outputs": []
    },
    {
      "cell_type": "code",
      "source": [
        "from sklearn.linear_model import LinearRegression\n",
        "regressor = LinearRegression()\n",
        "regressor.fit(x_train, y_train)\n",
        "\n",
        "y_pred = regressor.predict(x_test)\n",
        "\n",
        "print(y_pred)\n",
        "\n"
      ],
      "metadata": {
        "colab": {
          "base_uri": "https://localhost:8080/"
        },
        "id": "fAb4TULk1Ei_",
        "outputId": "d92d0140-a2a6-42c7-b64b-afeb3e5ff5e2"
      },
      "execution_count": 8,
      "outputs": [
        {
          "output_type": "stream",
          "name": "stdout",
          "text": [
            "[  13584.9901477   283056.8394441   283080.61386528  271006.00962494\n",
            "  255431.68362185   87137.8506168    26860.65802638  283266.10660197\n",
            "   18042.69577429   13712.74500438  283096.28930781   17856.94178022\n",
            "  283059.45201785   14082.16293351   17391.38113686   31218.82459286\n",
            "   80286.37263104  129198.99504548   35638.12538524  270224.20189339\n",
            "  763402.01534898  284244.77673106   27188.53603278   62701.26434144\n",
            "   45015.43967853   46525.11376858   26882.8649033   283259.83642496\n",
            "   94019.23760706  283123.72133226   80986.14885665  557387.03219912\n",
            "   14222.98065897  398446.88789989   56949.67659706  283510.38224818\n",
            " 1077504.27096854  283144.36066493  356118.97983067  121624.22436031\n",
            "   28333.88836752   71276.25061419   13611.37714264 5558937.80500256\n",
            "   18014.21872035   39946.39179297   36494.26580516   29041.63459809\n",
            " 1917670.43303786   22482.1133846    31685.16900835  283057.62321622\n",
            "  909409.80382112  334195.58701516   57887.46491187  175782.63692992\n",
            "  409034.07516969  116740.27898038  621327.18547948   13493.81132361\n",
            "   49550.08394725  152333.86479179   59515.88213414   16224.21215626\n",
            "   22588.96765123  283191.12573517  283100.99194058   27135.50078553\n",
            "  283168.13508611   17599.08075048   46130.22490032   46253.53838162\n",
            "  283351.79902118  670261.26409875   81404.42522503  283067.28973912\n",
            "  283345.52884416   13279.58027559 1966281.17089977  127456.53732375\n",
            " 4570653.59269453  159030.93966855  283770.07207955   13577.41368381\n",
            "  827237.80458279  498593.01428013   18214.34187008   18615.11068429\n",
            "  283142.79312068 7447466.36974732   13498.25269899 2793024.97723258\n",
            "  402594.35866793   14358.8344943    13013.35900983 2956709.03307482\n",
            "   68890.06133892   21833.15006354  283107.26211759 1698509.58389497\n",
            "   17443.63261199   13388.52460123   13552.07171837   36394.33320398\n",
            "  575641.11151402   18246.99904203  221248.62638143  283415.02330608\n",
            "  164294.75658264   13089.38490614  140062.5992387   452184.67609474\n",
            "  283136.26168629  812256.7510497   672458.80237879  169454.32518385\n",
            "   78631.56841384  283139.13551742  342848.55364952  115099.1924304\n",
            "  511389.40715822   13170.63594996   67173.20684      26692.93079123\n",
            "   13048.89001292   32445.95048617  226664.7431055    41506.6208402\n",
            "   32791.33273674   86916.30436227   13310.14738854   35555.04553979\n",
            "   24088.84624469 1380777.30587481  283751.00029113   66838.53614183\n",
            " 1350552.96591356  179901.22717295 4581910.12124426  290552.25798968\n",
            "   47498.42977647 2932696.27896636   67604.80402454   37172.2286949\n",
            "   12954.31484294   28807.93822059  283100.7306832    70483.73133023\n",
            "   22165.73070271   54067.48853917   82762.17649615   32472.85999586\n",
            "   81178.17633774   24726.05298383   23248.90378205 1557121.25908497\n",
            "   48231.51797247   17900.31050458  283129.20773714   60212.9168123\n",
            "   28012.80305288  354844.33157502   39546.66800827   14018.93864861\n",
            "  279929.3975031   148415.65895586   41864.80470219   22361.41247706\n",
            "   22240.45031214   13246.66184627   72752.88392122  103359.85020408\n",
            "   29313.60352611 1286698.5116724   101251.3708991  2614301.84578268\n",
            "  149351.21830797   13169.0684057   111567.25396933  300447.51668515\n",
            "  151134.56446399   17468.1908053    13230.46388898  722136.53853277\n",
            "   46646.20821718  195977.05491357   30740.72359547 1044206.38350677\n",
            "  416202.98417683   41768.66198796   77081.39612057  283274.20558061\n",
            "   31925.00327917  283079.83009315   35969.39973753  283412.6719897\n",
            "   60020.36681646   13934.55251628   52343.05757636   21956.72480221\n",
            "   52284.01340947   31284.66145152   94148.29875062  184634.69161452\n",
            "   17878.36488503   46160.53075589   50932.52900536   23497.35954627\n",
            "   30948.94572384  123434.48002601   13071.09688985   14004.83075033\n",
            "  130825.97700719   14088.43311053   23119.58138112   47756.55206358\n",
            "   90513.03465249   43321.83708604  135364.67242022   35319.1301296\n",
            "  283158.99107796   62484.67866704   40334.62025315   64042.03719314\n",
            "   23727.26603682  283488.17537125   13413.60530929  283074.08243089\n",
            "   75673.7413807   283072.51488663  199020.18413485   26898.54034584\n",
            "   17597.25194885  174140.36975674   44465.23164547 1088155.74410276\n",
            " 1803174.17313665 2216148.15820817   32009.65066887  283349.97021955\n",
            "   41445.48661431  174372.24064261   55822.87684599  245040.03922269\n",
            "  191921.034157     99808.04956246  150097.50165645  515598.26678954\n",
            "  262321.94674287   22767.1451814    28489.85902077   39421.13218428\n",
            "   25541.69851053  243984.03360041   76705.84029811   51805.38989733\n",
            "  283222.73787762  199891.59652624  283502.80578429   13003.16997218\n",
            "   23368.55966009  539584.31968564   35989.51655545   64510.8618987\n",
            "   46802.70138518   35776.59179432  283828.33247431 1208666.11900083\n",
            "  337260.13272123   45187.214748     48683.10300124   31248.60793368\n",
            "  582748.36378052   45756.10433843   22443.70855038   24325.02291225\n",
            "   17821.67203452 6331054.9264814    33037.1759272   413963.62816668\n",
            "  283303.20514931   30543.86450793   27539.927203    167715.66396907\n",
            "  108418.05425355 7696104.03884259  168999.3504292   283719.38814868\n",
            "   91816.83793055  283054.22687034  283081.13638003  104598.47142192\n",
            "  307985.17889298   26631.79656533  403675.43837826 1218804.87288038\n",
            " 2324998.04426732   23242.63360504   46286.32452725  132802.90825853\n",
            "   49884.23213067  485522.30446763  283213.59386947   23125.85155813\n",
            "  284123.81456615  283170.48640249   73606.01822632  283182.2429844\n",
            "   30069.68237117   57094.67775053   14791.21545096   13895.36390994\n",
            "   37106.25955256   68886.14247829   31596.08024326  108670.95139316\n",
            "   31067.55657237   72001.89793999   18056.28115783  283097.33433732\n",
            "   13041.31354902  283173.36023362   18417.86136569 3006783.42400863\n",
            "   30972.72014502   70092.62903892  152640.58095078   20548.41526391\n",
            "  283418.15839458   19108.36460947  359039.06675804   13688.18681107\n",
            "   14199.72875254  283777.64854344  225896.2595001    18513.48156517\n",
            "   85726.79953105  149732.39612901   18696.88424286  960658.69880207\n",
            "   93707.95109901  260210.85817414   17642.97198959  283041.16400156\n",
            "   22729.52411931   69333.15384798 6645800.6226071   399516.61780939\n",
            "  173279.27206668   70190.72952847 1142544.04661291 2012700.60093861\n",
            "   26488.23398242  219695.57694703   22235.74767938   35667.12495393\n",
            "   18165.22548346  283123.1988175   102366.15612089  825753.03588708\n",
            "  351580.96238609   23236.36342802  392639.52336081   24590.19914851\n",
            "  283203.40483182  507561.58313425  245128.60547303   72937.4606021\n",
            "   71784.40282978   40358.52364802  283099.6856537    40443.30332141\n",
            "   37131.47254431  283128.94647977   13481.79348433  283633.17321472\n",
            "   13285.06668048   47708.74196384   13852.51770034   13522.02712017\n",
            "   33151.8679151   201220.89060343   21243.62114045   32716.35186994\n",
            "  283056.8394441    32100.30697822  283048.47920808  283394.12271603\n",
            "   55354.18111412  116097.71150003   19082.50012928  209101.0645407\n",
            "  283875.88131668   62792.70111291   13041.83606378  383626.67634652\n",
            "  283667.13667355  283082.70392428  283301.63760506   13013.88152458\n",
            " 9048337.79530167   13292.90440175  283088.9741013    36323.14222412\n",
            "   18011.08363184   38259.84314963   41172.47265678  283093.67673406\n",
            " 5238686.86697768  283057.36195885   31185.38364878  139378.36948194\n",
            "   22394.06964901   22664.73229016   92205.85347285  150135.64192328\n",
            "   17851.97789009   36983.86212708   47633.76109704   29697.39061091\n",
            "   17900.0492472   283266.8903741    39779.31604626  103993.91854472\n",
            "  258683.42520256  283132.60408303 5450728.90209665   13257.11214129\n",
            "  181982.91932192   27622.4845337    71394.86808272   23208.14763146\n",
            "  283199.74722856   60624.26489522  283043.77657531   13975.04740951\n",
            "   22469.83428794]\n"
          ]
        }
      ]
    },
    {
      "cell_type": "markdown",
      "source": [
        "The following code is problematic:"
      ],
      "metadata": {
        "id": "DjLtNDGi1sf3"
      }
    },
    {
      "cell_type": "code",
      "source": [
        "plt.scatter(x_train, y_train, color = 'red')\n",
        "plt.plot(x_train, regressor.predict(x_train), color = 'blue')\n",
        "#plt.title('Salary vs Experience (Training set)')\n",
        "#plt.xlabel('Years of Experience')\n",
        "#plt.ylabel('Salary')\n",
        "plt.show()\n",
        "\n",
        "\n",
        "model.score(x_test, y_test)\n"
      ],
      "metadata": {
        "colab": {
          "base_uri": "https://localhost:8080/",
          "height": 808
        },
        "id": "gG1O2GZM1h6x",
        "outputId": "8e415ff8-68d4-4d70-ebc5-dabdf21a0d67"
      },
      "execution_count": 9,
      "outputs": [
        {
          "output_type": "error",
          "ename": "ValueError",
          "evalue": "ignored",
          "traceback": [
            "\u001b[0;31m---------------------------------------------------------------------------\u001b[0m",
            "\u001b[0;31mValueError\u001b[0m                                Traceback (most recent call last)",
            "\u001b[0;32m<ipython-input-9-26a2d708d190>\u001b[0m in \u001b[0;36m<cell line: 1>\u001b[0;34m()\u001b[0m\n\u001b[0;32m----> 1\u001b[0;31m \u001b[0mplt\u001b[0m\u001b[0;34m.\u001b[0m\u001b[0mscatter\u001b[0m\u001b[0;34m(\u001b[0m\u001b[0mx_train\u001b[0m\u001b[0;34m,\u001b[0m \u001b[0my_train\u001b[0m\u001b[0;34m,\u001b[0m \u001b[0mcolor\u001b[0m \u001b[0;34m=\u001b[0m \u001b[0;34m'red'\u001b[0m\u001b[0;34m)\u001b[0m\u001b[0;34m\u001b[0m\u001b[0;34m\u001b[0m\u001b[0m\n\u001b[0m\u001b[1;32m      2\u001b[0m \u001b[0mplt\u001b[0m\u001b[0;34m.\u001b[0m\u001b[0mplot\u001b[0m\u001b[0;34m(\u001b[0m\u001b[0mx_train\u001b[0m\u001b[0;34m,\u001b[0m \u001b[0mregressor\u001b[0m\u001b[0;34m.\u001b[0m\u001b[0mpredict\u001b[0m\u001b[0;34m(\u001b[0m\u001b[0mx_train\u001b[0m\u001b[0;34m)\u001b[0m\u001b[0;34m,\u001b[0m \u001b[0mcolor\u001b[0m \u001b[0;34m=\u001b[0m \u001b[0;34m'blue'\u001b[0m\u001b[0;34m)\u001b[0m\u001b[0;34m\u001b[0m\u001b[0;34m\u001b[0m\u001b[0m\n\u001b[1;32m      3\u001b[0m \u001b[0;31m#plt.title('Salary vs Experience (Training set)')\u001b[0m\u001b[0;34m\u001b[0m\u001b[0;34m\u001b[0m\u001b[0m\n\u001b[1;32m      4\u001b[0m \u001b[0;31m#plt.xlabel('Years of Experience')\u001b[0m\u001b[0;34m\u001b[0m\u001b[0;34m\u001b[0m\u001b[0m\n\u001b[1;32m      5\u001b[0m \u001b[0;31m#plt.ylabel('Salary')\u001b[0m\u001b[0;34m\u001b[0m\u001b[0;34m\u001b[0m\u001b[0m\n",
            "\u001b[0;32m/usr/local/lib/python3.10/dist-packages/matplotlib/pyplot.py\u001b[0m in \u001b[0;36mscatter\u001b[0;34m(x, y, s, c, marker, cmap, norm, vmin, vmax, alpha, linewidths, edgecolors, plotnonfinite, data, **kwargs)\u001b[0m\n\u001b[1;32m   2860\u001b[0m         \u001b[0mvmin\u001b[0m\u001b[0;34m=\u001b[0m\u001b[0;32mNone\u001b[0m\u001b[0;34m,\u001b[0m \u001b[0mvmax\u001b[0m\u001b[0;34m=\u001b[0m\u001b[0;32mNone\u001b[0m\u001b[0;34m,\u001b[0m \u001b[0malpha\u001b[0m\u001b[0;34m=\u001b[0m\u001b[0;32mNone\u001b[0m\u001b[0;34m,\u001b[0m \u001b[0mlinewidths\u001b[0m\u001b[0;34m=\u001b[0m\u001b[0;32mNone\u001b[0m\u001b[0;34m,\u001b[0m \u001b[0;34m*\u001b[0m\u001b[0;34m,\u001b[0m\u001b[0;34m\u001b[0m\u001b[0;34m\u001b[0m\u001b[0m\n\u001b[1;32m   2861\u001b[0m         edgecolors=None, plotnonfinite=False, data=None, **kwargs):\n\u001b[0;32m-> 2862\u001b[0;31m     __ret = gca().scatter(\n\u001b[0m\u001b[1;32m   2863\u001b[0m         \u001b[0mx\u001b[0m\u001b[0;34m,\u001b[0m \u001b[0my\u001b[0m\u001b[0;34m,\u001b[0m \u001b[0ms\u001b[0m\u001b[0;34m=\u001b[0m\u001b[0ms\u001b[0m\u001b[0;34m,\u001b[0m \u001b[0mc\u001b[0m\u001b[0;34m=\u001b[0m\u001b[0mc\u001b[0m\u001b[0;34m,\u001b[0m \u001b[0mmarker\u001b[0m\u001b[0;34m=\u001b[0m\u001b[0mmarker\u001b[0m\u001b[0;34m,\u001b[0m \u001b[0mcmap\u001b[0m\u001b[0;34m=\u001b[0m\u001b[0mcmap\u001b[0m\u001b[0;34m,\u001b[0m \u001b[0mnorm\u001b[0m\u001b[0;34m=\u001b[0m\u001b[0mnorm\u001b[0m\u001b[0;34m,\u001b[0m\u001b[0;34m\u001b[0m\u001b[0;34m\u001b[0m\u001b[0m\n\u001b[1;32m   2864\u001b[0m         \u001b[0mvmin\u001b[0m\u001b[0;34m=\u001b[0m\u001b[0mvmin\u001b[0m\u001b[0;34m,\u001b[0m \u001b[0mvmax\u001b[0m\u001b[0;34m=\u001b[0m\u001b[0mvmax\u001b[0m\u001b[0;34m,\u001b[0m \u001b[0malpha\u001b[0m\u001b[0;34m=\u001b[0m\u001b[0malpha\u001b[0m\u001b[0;34m,\u001b[0m \u001b[0mlinewidths\u001b[0m\u001b[0;34m=\u001b[0m\u001b[0mlinewidths\u001b[0m\u001b[0;34m,\u001b[0m\u001b[0;34m\u001b[0m\u001b[0;34m\u001b[0m\u001b[0m\n",
            "\u001b[0;32m/usr/local/lib/python3.10/dist-packages/matplotlib/__init__.py\u001b[0m in \u001b[0;36minner\u001b[0;34m(ax, data, *args, **kwargs)\u001b[0m\n\u001b[1;32m   1440\u001b[0m     \u001b[0;32mdef\u001b[0m \u001b[0minner\u001b[0m\u001b[0;34m(\u001b[0m\u001b[0max\u001b[0m\u001b[0;34m,\u001b[0m \u001b[0;34m*\u001b[0m\u001b[0margs\u001b[0m\u001b[0;34m,\u001b[0m \u001b[0mdata\u001b[0m\u001b[0;34m=\u001b[0m\u001b[0;32mNone\u001b[0m\u001b[0;34m,\u001b[0m \u001b[0;34m**\u001b[0m\u001b[0mkwargs\u001b[0m\u001b[0;34m)\u001b[0m\u001b[0;34m:\u001b[0m\u001b[0;34m\u001b[0m\u001b[0;34m\u001b[0m\u001b[0m\n\u001b[1;32m   1441\u001b[0m         \u001b[0;32mif\u001b[0m \u001b[0mdata\u001b[0m \u001b[0;32mis\u001b[0m \u001b[0;32mNone\u001b[0m\u001b[0;34m:\u001b[0m\u001b[0;34m\u001b[0m\u001b[0;34m\u001b[0m\u001b[0m\n\u001b[0;32m-> 1442\u001b[0;31m             \u001b[0;32mreturn\u001b[0m \u001b[0mfunc\u001b[0m\u001b[0;34m(\u001b[0m\u001b[0max\u001b[0m\u001b[0;34m,\u001b[0m \u001b[0;34m*\u001b[0m\u001b[0mmap\u001b[0m\u001b[0;34m(\u001b[0m\u001b[0msanitize_sequence\u001b[0m\u001b[0;34m,\u001b[0m \u001b[0margs\u001b[0m\u001b[0;34m)\u001b[0m\u001b[0;34m,\u001b[0m \u001b[0;34m**\u001b[0m\u001b[0mkwargs\u001b[0m\u001b[0;34m)\u001b[0m\u001b[0;34m\u001b[0m\u001b[0;34m\u001b[0m\u001b[0m\n\u001b[0m\u001b[1;32m   1443\u001b[0m \u001b[0;34m\u001b[0m\u001b[0m\n\u001b[1;32m   1444\u001b[0m         \u001b[0mbound\u001b[0m \u001b[0;34m=\u001b[0m \u001b[0mnew_sig\u001b[0m\u001b[0;34m.\u001b[0m\u001b[0mbind\u001b[0m\u001b[0;34m(\u001b[0m\u001b[0max\u001b[0m\u001b[0;34m,\u001b[0m \u001b[0;34m*\u001b[0m\u001b[0margs\u001b[0m\u001b[0;34m,\u001b[0m \u001b[0;34m**\u001b[0m\u001b[0mkwargs\u001b[0m\u001b[0;34m)\u001b[0m\u001b[0;34m\u001b[0m\u001b[0;34m\u001b[0m\u001b[0m\n",
            "\u001b[0;32m/usr/local/lib/python3.10/dist-packages/matplotlib/axes/_axes.py\u001b[0m in \u001b[0;36mscatter\u001b[0;34m(self, x, y, s, c, marker, cmap, norm, vmin, vmax, alpha, linewidths, edgecolors, plotnonfinite, **kwargs)\u001b[0m\n\u001b[1;32m   4582\u001b[0m         \u001b[0my\u001b[0m \u001b[0;34m=\u001b[0m \u001b[0mnp\u001b[0m\u001b[0;34m.\u001b[0m\u001b[0mma\u001b[0m\u001b[0;34m.\u001b[0m\u001b[0mravel\u001b[0m\u001b[0;34m(\u001b[0m\u001b[0my\u001b[0m\u001b[0;34m)\u001b[0m\u001b[0;34m\u001b[0m\u001b[0;34m\u001b[0m\u001b[0m\n\u001b[1;32m   4583\u001b[0m         \u001b[0;32mif\u001b[0m \u001b[0mx\u001b[0m\u001b[0;34m.\u001b[0m\u001b[0msize\u001b[0m \u001b[0;34m!=\u001b[0m \u001b[0my\u001b[0m\u001b[0;34m.\u001b[0m\u001b[0msize\u001b[0m\u001b[0;34m:\u001b[0m\u001b[0;34m\u001b[0m\u001b[0;34m\u001b[0m\u001b[0m\n\u001b[0;32m-> 4584\u001b[0;31m             \u001b[0;32mraise\u001b[0m \u001b[0mValueError\u001b[0m\u001b[0;34m(\u001b[0m\u001b[0;34m\"x and y must be the same size\"\u001b[0m\u001b[0;34m)\u001b[0m\u001b[0;34m\u001b[0m\u001b[0;34m\u001b[0m\u001b[0m\n\u001b[0m\u001b[1;32m   4585\u001b[0m \u001b[0;34m\u001b[0m\u001b[0m\n\u001b[1;32m   4586\u001b[0m         \u001b[0;32mif\u001b[0m \u001b[0ms\u001b[0m \u001b[0;32mis\u001b[0m \u001b[0;32mNone\u001b[0m\u001b[0;34m:\u001b[0m\u001b[0;34m\u001b[0m\u001b[0;34m\u001b[0m\u001b[0m\n",
            "\u001b[0;31mValueError\u001b[0m: x and y must be the same size"
          ]
        },
        {
          "output_type": "display_data",
          "data": {
            "text/plain": [
              "<Figure size 640x480 with 1 Axes>"
            ],
            "image/png": "[encoded data removed]"
          },
          "metadata": {}
        }
      ]
    }
  ]
}